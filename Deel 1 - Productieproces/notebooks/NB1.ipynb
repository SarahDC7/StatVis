{
 "cells": [
  {
   "cell_type": "code",
   "execution_count": 14,
   "id": "d8b7719d-cfb2-4784-b912-265fcec9a6f9",
   "metadata": {},
   "outputs": [],
   "source": [
    "## General imports\n",
    "\n",
    "import os\n",
    "import json\n",
    "import glob\n",
    "import pandas as pd\n",
    "import matplotlib.pyplot as plt"
   ]
  },
  {
   "cell_type": "markdown",
   "id": "7d19be03-50bc-4a2f-b377-65928ff0e2a3",
   "metadata": {},
   "source": [
    "## Define locations"
   ]
  },
  {
   "cell_type": "code",
   "execution_count": 9,
   "id": "e3e4b6d7-3ad0-4a86-ac3c-28dbe9ecc073",
   "metadata": {},
   "outputs": [
    {
     "data": {
      "text/plain": [
       "{'input_master_data': '..\\\\data\\\\input\\\\data_productie\\\\master_data.json',\n",
       " 'input_daily_BRU': '..\\\\data\\\\input\\\\data_productie\\\\daily_production\\\\BRU',\n",
       " 'output_folder': '..\\\\data\\\\output'}"
      ]
     },
     "execution_count": 9,
     "metadata": {},
     "output_type": "execute_result"
    }
   ],
   "source": [
    "locs = {'input_master_data' : os.path.join('..', 'data', 'input', 'data_productie', 'master_data.json'),\n",
    "        'input_daily_BRU' : os.path.join('..', 'data', 'input', 'data_productie', 'daily_production', 'BRU'),\n",
    "        'output_folder' : os.path.join('..', 'data', 'output')}\n",
    "locs"
   ]
  },
  {
   "cell_type": "markdown",
   "id": "b22f995e-0b7d-4c04-b7f3-e2d3fb621204",
   "metadata": {},
   "source": [
    "## Read data"
   ]
  },
  {
   "cell_type": "code",
   "execution_count": 5,
   "id": "300d1fc6-1b70-4008-8772-4d2c1cd2d8d7",
   "metadata": {},
   "outputs": [],
   "source": [
    "#print(locs['input_master_data'])\n",
    "#print(os.getcwd())"
   ]
  },
  {
   "cell_type": "code",
   "execution_count": 4,
   "id": "c9e1f721-f9e3-4307-9602-26c7e65ff4ca",
   "metadata": {},
   "outputs": [
    {
     "data": {
      "text/plain": [
       "{'BRU msr': 1244, 'STO msr': 274}"
      ]
     },
     "execution_count": 4,
     "metadata": {},
     "output_type": "execute_result"
    }
   ],
   "source": [
    "with open(locs['input_master_data'], 'r') as f:\n",
    "    data_raw = json.load(f)\n",
    "data_raw"
   ]
  },
  {
   "cell_type": "code",
   "execution_count": null,
   "id": "3cd6ec17-1579-4393-98fa-f0240f416087",
   "metadata": {},
   "outputs": [],
   "source": [
    "def read_daily(ymd, index, city):\n",
    "    \"\"\"\n",
    "    TODO!!!!!!!!!!!!!!!!!!!!!!!!!!!!!!!!!!!!!!!\n",
    "    \"\"\"\n"
   ]
  },
  {
   "cell_type": "code",
   "execution_count": 40,
   "id": "c8ec22f2-9d6f-4fb1-9d6a-bb72a80e177b",
   "metadata": {},
   "outputs": [
    {
     "data": {
      "text/html": [
       "<div>\n",
       "<style scoped>\n",
       "    .dataframe tbody tr th:only-of-type {\n",
       "        vertical-align: middle;\n",
       "    }\n",
       "\n",
       "    .dataframe tbody tr th {\n",
       "        vertical-align: top;\n",
       "    }\n",
       "\n",
       "    .dataframe thead th {\n",
       "        text-align: right;\n",
       "    }\n",
       "</style>\n",
       "<table border=\"1\" class=\"dataframe\">\n",
       "  <thead>\n",
       "    <tr style=\"text-align: right;\">\n",
       "      <th></th>\n",
       "      <th>DoW</th>\n",
       "      <th>hour</th>\n",
       "      <th>minute</th>\n",
       "      <th>date</th>\n",
       "      <th>maintenance</th>\n",
       "      <th>prod_loss</th>\n",
       "      <th>prod_loss_perc</th>\n",
       "      <th>production</th>\n",
       "    </tr>\n",
       "  </thead>\n",
       "  <tbody>\n",
       "    <tr>\n",
       "      <th>596</th>\n",
       "      <td>Tuesday</td>\n",
       "      <td>1</td>\n",
       "      <td>0</td>\n",
       "      <td>08-20-2019 00:00:00.0000</td>\n",
       "      <td>No</td>\n",
       "      <td>158</td>\n",
       "      <td>13</td>\n",
       "      <td>1086</td>\n",
       "    </tr>\n",
       "    <tr>\n",
       "      <th>1206</th>\n",
       "      <td>Wednesday</td>\n",
       "      <td>1</td>\n",
       "      <td>0</td>\n",
       "      <td>04-21-2021 00:00:00.0000</td>\n",
       "      <td>No</td>\n",
       "      <td>324</td>\n",
       "      <td>26</td>\n",
       "      <td>920</td>\n",
       "    </tr>\n",
       "    <tr>\n",
       "      <th>1214</th>\n",
       "      <td>Thursday</td>\n",
       "      <td>1</td>\n",
       "      <td>0</td>\n",
       "      <td>04-29-2021 00:00:00.0000</td>\n",
       "      <td>No</td>\n",
       "      <td>193</td>\n",
       "      <td>16</td>\n",
       "      <td>1051</td>\n",
       "    </tr>\n",
       "    <tr>\n",
       "      <th>1439</th>\n",
       "      <td>Friday</td>\n",
       "      <td>1</td>\n",
       "      <td>0</td>\n",
       "      <td>12-10-2021 00:00:00.0000</td>\n",
       "      <td>No</td>\n",
       "      <td>196</td>\n",
       "      <td>16</td>\n",
       "      <td>1048</td>\n",
       "    </tr>\n",
       "    <tr>\n",
       "      <th>79</th>\n",
       "      <td>Wednesday</td>\n",
       "      <td>1</td>\n",
       "      <td>0</td>\n",
       "      <td>03-21-2018 00:00:00.0000</td>\n",
       "      <td>No</td>\n",
       "      <td>1244</td>\n",
       "      <td>100</td>\n",
       "      <td>0</td>\n",
       "    </tr>\n",
       "    <tr>\n",
       "      <th>1436</th>\n",
       "      <td>Tuesday</td>\n",
       "      <td>1</td>\n",
       "      <td>0</td>\n",
       "      <td>12-07-2021 00:00:00.0000</td>\n",
       "      <td>No</td>\n",
       "      <td>210</td>\n",
       "      <td>17</td>\n",
       "      <td>1034</td>\n",
       "    </tr>\n",
       "    <tr>\n",
       "      <th>433</th>\n",
       "      <td>Sunday</td>\n",
       "      <td>1</td>\n",
       "      <td>0</td>\n",
       "      <td>03-10-2019 00:00:00.0000</td>\n",
       "      <td>No</td>\n",
       "      <td>347</td>\n",
       "      <td>28</td>\n",
       "      <td>897</td>\n",
       "    </tr>\n",
       "    <tr>\n",
       "      <th>981</th>\n",
       "      <td>Tuesday</td>\n",
       "      <td>1</td>\n",
       "      <td>0</td>\n",
       "      <td>09-08-2020 00:00:00.0000</td>\n",
       "      <td>No</td>\n",
       "      <td>270</td>\n",
       "      <td>22</td>\n",
       "      <td>974</td>\n",
       "    </tr>\n",
       "    <tr>\n",
       "      <th>506</th>\n",
       "      <td>Wednesday</td>\n",
       "      <td>1</td>\n",
       "      <td>0</td>\n",
       "      <td>05-22-2019 00:00:00.0000</td>\n",
       "      <td>No</td>\n",
       "      <td>253</td>\n",
       "      <td>20</td>\n",
       "      <td>991</td>\n",
       "    </tr>\n",
       "    <tr>\n",
       "      <th>1785</th>\n",
       "      <td>Monday</td>\n",
       "      <td>1</td>\n",
       "      <td>0</td>\n",
       "      <td>11-21-2022 00:00:00.0000</td>\n",
       "      <td>No</td>\n",
       "      <td>109</td>\n",
       "      <td>9</td>\n",
       "      <td>1135</td>\n",
       "    </tr>\n",
       "  </tbody>\n",
       "</table>\n",
       "</div>"
      ],
      "text/plain": [
       "            DoW  hour  minute                      date maintenance prod_loss  \\\n",
       "596     Tuesday     1       0  08-20-2019 00:00:00.0000          No       158   \n",
       "1206  Wednesday     1       0  04-21-2021 00:00:00.0000          No       324   \n",
       "1214   Thursday     1       0  04-29-2021 00:00:00.0000          No       193   \n",
       "1439     Friday     1       0  12-10-2021 00:00:00.0000          No       196   \n",
       "79    Wednesday     1       0  03-21-2018 00:00:00.0000          No      1244   \n",
       "1436    Tuesday     1       0  12-07-2021 00:00:00.0000          No       210   \n",
       "433      Sunday     1       0  03-10-2019 00:00:00.0000          No       347   \n",
       "981     Tuesday     1       0  09-08-2020 00:00:00.0000          No       270   \n",
       "506   Wednesday     1       0  05-22-2019 00:00:00.0000          No       253   \n",
       "1785     Monday     1       0  11-21-2022 00:00:00.0000          No       109   \n",
       "\n",
       "     prod_loss_perc production  \n",
       "596              13       1086  \n",
       "1206             26        920  \n",
       "1214             16       1051  \n",
       "1439             16       1048  \n",
       "79              100          0  \n",
       "1436             17       1034  \n",
       "433              28        897  \n",
       "981              22        974  \n",
       "506              20        991  \n",
       "1785              9       1135  "
      ]
     },
     "execution_count": 40,
     "metadata": {},
     "output_type": "execute_result"
    }
   ],
   "source": [
    "folder_daily = locs['input_daily_BRU']\n",
    "\n",
    "# import all files which end with .json from folder\n",
    "json_files_BRU = glob.glob(os.path.join(folder_daily, '*.json'))\n",
    "\n",
    "json_list = []\n",
    "for file in json_files_BRU:\n",
    "    with open(file, 'r') as f:\n",
    "        data = json.load(f)\n",
    "    json_list.append(data)\n",
    "\n",
    "# convert list of dfs to dataframe\n",
    "df_BRU = pd.json_normalize(json_list)\n",
    "df_BRU.sample(10)"
   ]
  },
  {
   "cell_type": "code",
   "execution_count": 48,
   "id": "752e3ae5-7729-49ce-a074-b1916ee96588",
   "metadata": {},
   "outputs": [],
   "source": [
    "df_BRU[['prod_loss', 'prod_loss_perc', 'production']] = df_BRU[['prod_loss', 'prod_loss_perc', 'production']].apply(pd.to_numeric, errors='coerce')"
   ]
  },
  {
   "cell_type": "code",
   "execution_count": 49,
   "id": "886b7e1f-372d-4a2e-91d5-4c5e4f196a80",
   "metadata": {},
   "outputs": [
    {
     "name": "stdout",
     "output_type": "stream",
     "text": [
      "<class 'pandas.core.frame.DataFrame'>\n",
      "RangeIndex: 1830 entries, 0 to 1829\n",
      "Data columns (total 8 columns):\n",
      " #   Column          Non-Null Count  Dtype  \n",
      "---  ------          --------------  -----  \n",
      " 0   DoW             1830 non-null   object \n",
      " 1   hour            1830 non-null   int64  \n",
      " 2   minute          1830 non-null   int64  \n",
      " 3   date            1830 non-null   object \n",
      " 4   maintenance     1830 non-null   object \n",
      " 5   prod_loss       1736 non-null   float64\n",
      " 6   prod_loss_perc  1736 non-null   float64\n",
      " 7   production      1736 non-null   float64\n",
      "dtypes: float64(3), int64(2), object(3)\n",
      "memory usage: 114.5+ KB\n"
     ]
    }
   ],
   "source": [
    "df_BRU.info()"
   ]
  },
  {
   "cell_type": "code",
   "execution_count": 50,
   "id": "6e270d3f-8a30-433d-bdcd-60dd1f4ac906",
   "metadata": {},
   "outputs": [
    {
     "data": {
      "text/html": [
       "<div>\n",
       "<style scoped>\n",
       "    .dataframe tbody tr th:only-of-type {\n",
       "        vertical-align: middle;\n",
       "    }\n",
       "\n",
       "    .dataframe tbody tr th {\n",
       "        vertical-align: top;\n",
       "    }\n",
       "\n",
       "    .dataframe thead th {\n",
       "        text-align: right;\n",
       "    }\n",
       "</style>\n",
       "<table border=\"1\" class=\"dataframe\">\n",
       "  <thead>\n",
       "    <tr style=\"text-align: right;\">\n",
       "      <th></th>\n",
       "      <th>hour</th>\n",
       "      <th>minute</th>\n",
       "      <th>prod_loss</th>\n",
       "      <th>prod_loss_perc</th>\n",
       "      <th>production</th>\n",
       "    </tr>\n",
       "  </thead>\n",
       "  <tbody>\n",
       "    <tr>\n",
       "      <th>count</th>\n",
       "      <td>1830.0</td>\n",
       "      <td>1830.0</td>\n",
       "      <td>1736.000000</td>\n",
       "      <td>1736.000000</td>\n",
       "      <td>1736.000000</td>\n",
       "    </tr>\n",
       "    <tr>\n",
       "      <th>mean</th>\n",
       "      <td>1.0</td>\n",
       "      <td>0.0</td>\n",
       "      <td>430.288018</td>\n",
       "      <td>34.579493</td>\n",
       "      <td>813.711982</td>\n",
       "    </tr>\n",
       "    <tr>\n",
       "      <th>std</th>\n",
       "      <td>0.0</td>\n",
       "      <td>0.0</td>\n",
       "      <td>390.712496</td>\n",
       "      <td>31.413713</td>\n",
       "      <td>390.712496</td>\n",
       "    </tr>\n",
       "    <tr>\n",
       "      <th>min</th>\n",
       "      <td>1.0</td>\n",
       "      <td>0.0</td>\n",
       "      <td>51.000000</td>\n",
       "      <td>4.000000</td>\n",
       "      <td>0.000000</td>\n",
       "    </tr>\n",
       "    <tr>\n",
       "      <th>25%</th>\n",
       "      <td>1.0</td>\n",
       "      <td>0.0</td>\n",
       "      <td>196.750000</td>\n",
       "      <td>16.000000</td>\n",
       "      <td>860.750000</td>\n",
       "    </tr>\n",
       "    <tr>\n",
       "      <th>50%</th>\n",
       "      <td>1.0</td>\n",
       "      <td>0.0</td>\n",
       "      <td>270.500000</td>\n",
       "      <td>22.000000</td>\n",
       "      <td>973.500000</td>\n",
       "    </tr>\n",
       "    <tr>\n",
       "      <th>75%</th>\n",
       "      <td>1.0</td>\n",
       "      <td>0.0</td>\n",
       "      <td>383.250000</td>\n",
       "      <td>31.000000</td>\n",
       "      <td>1047.250000</td>\n",
       "    </tr>\n",
       "    <tr>\n",
       "      <th>max</th>\n",
       "      <td>1.0</td>\n",
       "      <td>0.0</td>\n",
       "      <td>1244.000000</td>\n",
       "      <td>100.000000</td>\n",
       "      <td>1193.000000</td>\n",
       "    </tr>\n",
       "  </tbody>\n",
       "</table>\n",
       "</div>"
      ],
      "text/plain": [
       "         hour  minute    prod_loss  prod_loss_perc   production\n",
       "count  1830.0  1830.0  1736.000000     1736.000000  1736.000000\n",
       "mean      1.0     0.0   430.288018       34.579493   813.711982\n",
       "std       0.0     0.0   390.712496       31.413713   390.712496\n",
       "min       1.0     0.0    51.000000        4.000000     0.000000\n",
       "25%       1.0     0.0   196.750000       16.000000   860.750000\n",
       "50%       1.0     0.0   270.500000       22.000000   973.500000\n",
       "75%       1.0     0.0   383.250000       31.000000  1047.250000\n",
       "max       1.0     0.0  1244.000000      100.000000  1193.000000"
      ]
     },
     "execution_count": 50,
     "metadata": {},
     "output_type": "execute_result"
    }
   ],
   "source": [
    "df_BRU.describe()"
   ]
  }
 ],
 "metadata": {
  "kernelspec": {
   "display_name": "Python 3 (ipykernel)",
   "language": "python",
   "name": "python3"
  },
  "language_info": {
   "codemirror_mode": {
    "name": "ipython",
    "version": 3
   },
   "file_extension": ".py",
   "mimetype": "text/x-python",
   "name": "python",
   "nbconvert_exporter": "python",
   "pygments_lexer": "ipython3",
   "version": "3.12.3"
  }
 },
 "nbformat": 4,
 "nbformat_minor": 5
}
