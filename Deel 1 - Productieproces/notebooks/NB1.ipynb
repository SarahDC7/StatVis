{
 "cells": [
  {
   "cell_type": "code",
   "execution_count": 9,
   "id": "d8b7719d-cfb2-4784-b912-265fcec9a6f9",
   "metadata": {},
   "outputs": [],
   "source": [
    "## General imports\n",
    "\n",
    "import os\n",
    "import json\n",
    "import pandas as pd\n",
    "import matplotlib.pyplot as plt"
   ]
  },
  {
   "cell_type": "markdown",
   "id": "7d19be03-50bc-4a2f-b377-65928ff0e2a3",
   "metadata": {},
   "source": [
    "## Define locations"
   ]
  },
  {
   "cell_type": "code",
   "execution_count": 29,
   "id": "e3e4b6d7-3ad0-4a86-ac3c-28dbe9ecc073",
   "metadata": {},
   "outputs": [
    {
     "data": {
      "text/plain": [
       "{'input_master_data': '..\\\\data\\\\input\\\\data_productie\\\\master_data.json',\n",
       " 'output_folder': '..\\\\data\\\\output'}"
      ]
     },
     "execution_count": 29,
     "metadata": {},
     "output_type": "execute_result"
    }
   ],
   "source": [
    "locs = {'input_master_data' : os.path.join('..', 'data', 'input', 'data_productie', 'master_data.json'),\n",
    "           'output_folder' : os.path.join('..', 'data', 'output')}\n",
    "locs"
   ]
  },
  {
   "cell_type": "markdown",
   "id": "b22f995e-0b7d-4c04-b7f3-e2d3fb621204",
   "metadata": {},
   "source": [
    "## Read data"
   ]
  },
  {
   "cell_type": "code",
   "execution_count": 30,
   "id": "300d1fc6-1b70-4008-8772-4d2c1cd2d8d7",
   "metadata": {},
   "outputs": [
    {
     "name": "stdout",
     "output_type": "stream",
     "text": [
      "..\\data\\input\\data_productie\\master_data.json\n",
      "C:\\Users\\u0103525\\OneDrive - KU Leuven\\Cursussen\\Data Scientist Syntra\\GIT\\StatiVis\\Deel 1 - Productieproces\\notebooks\n"
     ]
    }
   ],
   "source": [
    "print(locs['input_master_data'])\n",
    "print(os.getcwd())"
   ]
  },
  {
   "cell_type": "code",
   "execution_count": 32,
   "id": "c9e1f721-f9e3-4307-9602-26c7e65ff4ca",
   "metadata": {},
   "outputs": [
    {
     "data": {
      "text/plain": [
       "{'BRU msr': 1244, 'STO msr': 274}"
      ]
     },
     "execution_count": 32,
     "metadata": {},
     "output_type": "execute_result"
    }
   ],
   "source": [
    "with open(locs['input_master_data'], 'r') as f:\n",
    "    data_raw = json.load(f)\n",
    "data_raw"
   ]
  }
 ],
 "metadata": {
  "kernelspec": {
   "display_name": "Python 3 (ipykernel)",
   "language": "python",
   "name": "python3"
  },
  "language_info": {
   "codemirror_mode": {
    "name": "ipython",
    "version": 3
   },
   "file_extension": ".py",
   "mimetype": "text/x-python",
   "name": "python",
   "nbconvert_exporter": "python",
   "pygments_lexer": "ipython3",
   "version": "3.12.3"
  }
 },
 "nbformat": 4,
 "nbformat_minor": 5
}
